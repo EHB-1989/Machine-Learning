{
 "cells": [
  {
   "cell_type": "code",
   "execution_count": 2,
   "metadata": {},
   "outputs": [],
   "source": [
    "#import libraries\n",
    "import pandas as pd\n",
    "import numpy as np\n",
    "import xgboost as xgb"
   ]
  },
  {
   "cell_type": "code",
   "execution_count": 169,
   "metadata": {},
   "outputs": [],
   "source": [
    "from xgboost.sklearn import XGBClassifier\n",
    "from sklearn.model_selection import cross_validate, GridSearchCV\n",
    "from sklearn import metrics "
   ]
  },
  {
   "cell_type": "code",
   "execution_count": 123,
   "metadata": {},
   "outputs": [],
   "source": [
    "import matplotlib.pylab as plt\n",
    "from matplotlib import pyplot\n",
    "%matplotlib inline\n",
    "from matplotlib.pylab import rcParams\n",
    "rcParams['figure.figsize'] = 12, 4"
   ]
  },
  {
   "cell_type": "code",
   "execution_count": 8,
   "metadata": {},
   "outputs": [],
   "source": [
    "train = pd.read_csv('train_modified.csv')\n",
    "target = 'Disbursed'\n",
    "IDcol = 'ID'"
   ]
  },
  {
   "cell_type": "code",
   "execution_count": 10,
   "metadata": {},
   "outputs": [
    {
     "data": {
      "text/html": [
       "<div>\n",
       "<style scoped>\n",
       "    .dataframe tbody tr th:only-of-type {\n",
       "        vertical-align: middle;\n",
       "    }\n",
       "\n",
       "    .dataframe tbody tr th {\n",
       "        vertical-align: top;\n",
       "    }\n",
       "\n",
       "    .dataframe thead th {\n",
       "        text-align: right;\n",
       "    }\n",
       "</style>\n",
       "<table border=\"1\" class=\"dataframe\">\n",
       "  <thead>\n",
       "    <tr style=\"text-align: right;\">\n",
       "      <th></th>\n",
       "      <th>Disbursed</th>\n",
       "      <th>Existing_EMI</th>\n",
       "      <th>ID</th>\n",
       "      <th>Loan_Amount_Applied</th>\n",
       "      <th>Loan_Tenure_Applied</th>\n",
       "      <th>Monthly_Income</th>\n",
       "      <th>Var4</th>\n",
       "      <th>Var5</th>\n",
       "      <th>Age</th>\n",
       "      <th>EMI_Loan_Submitted_Missing</th>\n",
       "      <th>...</th>\n",
       "      <th>Var2_2</th>\n",
       "      <th>Var2_3</th>\n",
       "      <th>Var2_4</th>\n",
       "      <th>Var2_5</th>\n",
       "      <th>Var2_6</th>\n",
       "      <th>Mobile_Verified_0</th>\n",
       "      <th>Mobile_Verified_1</th>\n",
       "      <th>Source_0</th>\n",
       "      <th>Source_1</th>\n",
       "      <th>Source_2</th>\n",
       "    </tr>\n",
       "  </thead>\n",
       "  <tbody>\n",
       "    <tr>\n",
       "      <th>0</th>\n",
       "      <td>0.0</td>\n",
       "      <td>0.0</td>\n",
       "      <td>ID000002C20</td>\n",
       "      <td>300000.0</td>\n",
       "      <td>5.0</td>\n",
       "      <td>20000</td>\n",
       "      <td>1</td>\n",
       "      <td>0</td>\n",
       "      <td>37</td>\n",
       "      <td>1</td>\n",
       "      <td>...</td>\n",
       "      <td>0.0</td>\n",
       "      <td>0.0</td>\n",
       "      <td>0.0</td>\n",
       "      <td>0.0</td>\n",
       "      <td>1.0</td>\n",
       "      <td>1.0</td>\n",
       "      <td>0.0</td>\n",
       "      <td>1.0</td>\n",
       "      <td>0.0</td>\n",
       "      <td>0.0</td>\n",
       "    </tr>\n",
       "    <tr>\n",
       "      <th>1</th>\n",
       "      <td>0.0</td>\n",
       "      <td>0.0</td>\n",
       "      <td>ID000004E40</td>\n",
       "      <td>200000.0</td>\n",
       "      <td>2.0</td>\n",
       "      <td>35000</td>\n",
       "      <td>3</td>\n",
       "      <td>13</td>\n",
       "      <td>30</td>\n",
       "      <td>0</td>\n",
       "      <td>...</td>\n",
       "      <td>0.0</td>\n",
       "      <td>0.0</td>\n",
       "      <td>0.0</td>\n",
       "      <td>0.0</td>\n",
       "      <td>1.0</td>\n",
       "      <td>0.0</td>\n",
       "      <td>1.0</td>\n",
       "      <td>1.0</td>\n",
       "      <td>0.0</td>\n",
       "      <td>0.0</td>\n",
       "    </tr>\n",
       "    <tr>\n",
       "      <th>2</th>\n",
       "      <td>0.0</td>\n",
       "      <td>0.0</td>\n",
       "      <td>ID000007H20</td>\n",
       "      <td>600000.0</td>\n",
       "      <td>4.0</td>\n",
       "      <td>22500</td>\n",
       "      <td>1</td>\n",
       "      <td>0</td>\n",
       "      <td>34</td>\n",
       "      <td>1</td>\n",
       "      <td>...</td>\n",
       "      <td>0.0</td>\n",
       "      <td>0.0</td>\n",
       "      <td>0.0</td>\n",
       "      <td>0.0</td>\n",
       "      <td>0.0</td>\n",
       "      <td>0.0</td>\n",
       "      <td>1.0</td>\n",
       "      <td>0.0</td>\n",
       "      <td>0.0</td>\n",
       "      <td>1.0</td>\n",
       "    </tr>\n",
       "    <tr>\n",
       "      <th>3</th>\n",
       "      <td>0.0</td>\n",
       "      <td>0.0</td>\n",
       "      <td>ID000008I30</td>\n",
       "      <td>1000000.0</td>\n",
       "      <td>5.0</td>\n",
       "      <td>35000</td>\n",
       "      <td>3</td>\n",
       "      <td>10</td>\n",
       "      <td>28</td>\n",
       "      <td>1</td>\n",
       "      <td>...</td>\n",
       "      <td>0.0</td>\n",
       "      <td>0.0</td>\n",
       "      <td>0.0</td>\n",
       "      <td>0.0</td>\n",
       "      <td>0.0</td>\n",
       "      <td>0.0</td>\n",
       "      <td>1.0</td>\n",
       "      <td>0.0</td>\n",
       "      <td>0.0</td>\n",
       "      <td>1.0</td>\n",
       "    </tr>\n",
       "    <tr>\n",
       "      <th>4</th>\n",
       "      <td>0.0</td>\n",
       "      <td>25000.0</td>\n",
       "      <td>ID000009J40</td>\n",
       "      <td>500000.0</td>\n",
       "      <td>2.0</td>\n",
       "      <td>100000</td>\n",
       "      <td>3</td>\n",
       "      <td>17</td>\n",
       "      <td>31</td>\n",
       "      <td>1</td>\n",
       "      <td>...</td>\n",
       "      <td>0.0</td>\n",
       "      <td>0.0</td>\n",
       "      <td>0.0</td>\n",
       "      <td>0.0</td>\n",
       "      <td>0.0</td>\n",
       "      <td>0.0</td>\n",
       "      <td>1.0</td>\n",
       "      <td>0.0</td>\n",
       "      <td>0.0</td>\n",
       "      <td>1.0</td>\n",
       "    </tr>\n",
       "  </tbody>\n",
       "</table>\n",
       "<p>5 rows × 51 columns</p>\n",
       "</div>"
      ],
      "text/plain": [
       "   Disbursed  Existing_EMI           ID  Loan_Amount_Applied  \\\n",
       "0        0.0           0.0  ID000002C20             300000.0   \n",
       "1        0.0           0.0  ID000004E40             200000.0   \n",
       "2        0.0           0.0  ID000007H20             600000.0   \n",
       "3        0.0           0.0  ID000008I30            1000000.0   \n",
       "4        0.0       25000.0  ID000009J40             500000.0   \n",
       "\n",
       "   Loan_Tenure_Applied  Monthly_Income  Var4  Var5  Age  \\\n",
       "0                  5.0           20000     1     0   37   \n",
       "1                  2.0           35000     3    13   30   \n",
       "2                  4.0           22500     1     0   34   \n",
       "3                  5.0           35000     3    10   28   \n",
       "4                  2.0          100000     3    17   31   \n",
       "\n",
       "   EMI_Loan_Submitted_Missing    ...     Var2_2  Var2_3  Var2_4  Var2_5  \\\n",
       "0                           1    ...        0.0     0.0     0.0     0.0   \n",
       "1                           0    ...        0.0     0.0     0.0     0.0   \n",
       "2                           1    ...        0.0     0.0     0.0     0.0   \n",
       "3                           1    ...        0.0     0.0     0.0     0.0   \n",
       "4                           1    ...        0.0     0.0     0.0     0.0   \n",
       "\n",
       "   Var2_6  Mobile_Verified_0  Mobile_Verified_1  Source_0  Source_1  Source_2  \n",
       "0     1.0                1.0                0.0       1.0       0.0       0.0  \n",
       "1     1.0                0.0                1.0       1.0       0.0       0.0  \n",
       "2     0.0                0.0                1.0       0.0       0.0       1.0  \n",
       "3     0.0                0.0                1.0       0.0       0.0       1.0  \n",
       "4     0.0                0.0                1.0       0.0       0.0       1.0  \n",
       "\n",
       "[5 rows x 51 columns]"
      ]
     },
     "execution_count": 10,
     "metadata": {},
     "output_type": "execute_result"
    }
   ],
   "source": [
    "train.head()"
   ]
  },
  {
   "cell_type": "code",
   "execution_count": 11,
   "metadata": {},
   "outputs": [
    {
     "data": {
      "text/html": [
       "<div>\n",
       "<style scoped>\n",
       "    .dataframe tbody tr th:only-of-type {\n",
       "        vertical-align: middle;\n",
       "    }\n",
       "\n",
       "    .dataframe tbody tr th {\n",
       "        vertical-align: top;\n",
       "    }\n",
       "\n",
       "    .dataframe thead th {\n",
       "        text-align: right;\n",
       "    }\n",
       "</style>\n",
       "<table border=\"1\" class=\"dataframe\">\n",
       "  <thead>\n",
       "    <tr style=\"text-align: right;\">\n",
       "      <th></th>\n",
       "      <th>Disbursed</th>\n",
       "      <th>Existing_EMI</th>\n",
       "      <th>Loan_Amount_Applied</th>\n",
       "      <th>Loan_Tenure_Applied</th>\n",
       "      <th>Monthly_Income</th>\n",
       "      <th>Var4</th>\n",
       "      <th>Var5</th>\n",
       "      <th>Age</th>\n",
       "      <th>EMI_Loan_Submitted_Missing</th>\n",
       "      <th>Interest_Rate_Missing</th>\n",
       "      <th>...</th>\n",
       "      <th>Var2_2</th>\n",
       "      <th>Var2_3</th>\n",
       "      <th>Var2_4</th>\n",
       "      <th>Var2_5</th>\n",
       "      <th>Var2_6</th>\n",
       "      <th>Mobile_Verified_0</th>\n",
       "      <th>Mobile_Verified_1</th>\n",
       "      <th>Source_0</th>\n",
       "      <th>Source_1</th>\n",
       "      <th>Source_2</th>\n",
       "    </tr>\n",
       "  </thead>\n",
       "  <tbody>\n",
       "    <tr>\n",
       "      <th>count</th>\n",
       "      <td>87020.000000</td>\n",
       "      <td>8.702000e+04</td>\n",
       "      <td>8.702000e+04</td>\n",
       "      <td>87020.000000</td>\n",
       "      <td>8.702000e+04</td>\n",
       "      <td>87020.000000</td>\n",
       "      <td>87020.000000</td>\n",
       "      <td>87020.000000</td>\n",
       "      <td>87020.000000</td>\n",
       "      <td>87020.000000</td>\n",
       "      <td>...</td>\n",
       "      <td>87020.000000</td>\n",
       "      <td>87020.000000</td>\n",
       "      <td>87020.000000</td>\n",
       "      <td>87020.000000</td>\n",
       "      <td>87020.000000</td>\n",
       "      <td>87020.000000</td>\n",
       "      <td>87020.000000</td>\n",
       "      <td>87020.000000</td>\n",
       "      <td>87020.000000</td>\n",
       "      <td>87020.000000</td>\n",
       "    </tr>\n",
       "    <tr>\n",
       "      <th>mean</th>\n",
       "      <td>0.014629</td>\n",
       "      <td>3.693212e+03</td>\n",
       "      <td>2.301444e+05</td>\n",
       "      <td>2.131292</td>\n",
       "      <td>5.884997e+04</td>\n",
       "      <td>2.949805</td>\n",
       "      <td>4.961503</td>\n",
       "      <td>30.904171</td>\n",
       "      <td>0.681384</td>\n",
       "      <td>0.681384</td>\n",
       "      <td>...</td>\n",
       "      <td>0.163296</td>\n",
       "      <td>0.007286</td>\n",
       "      <td>0.015111</td>\n",
       "      <td>0.006251</td>\n",
       "      <td>0.379591</td>\n",
       "      <td>0.350942</td>\n",
       "      <td>0.649058</td>\n",
       "      <td>0.443197</td>\n",
       "      <td>0.343427</td>\n",
       "      <td>0.213376</td>\n",
       "    </tr>\n",
       "    <tr>\n",
       "      <th>std</th>\n",
       "      <td>0.120062</td>\n",
       "      <td>3.979411e+04</td>\n",
       "      <td>3.540818e+05</td>\n",
       "      <td>2.013375</td>\n",
       "      <td>2.177511e+06</td>\n",
       "      <td>1.697720</td>\n",
       "      <td>5.670385</td>\n",
       "      <td>7.147194</td>\n",
       "      <td>0.465943</td>\n",
       "      <td>0.465943</td>\n",
       "      <td>...</td>\n",
       "      <td>0.369637</td>\n",
       "      <td>0.085045</td>\n",
       "      <td>0.121997</td>\n",
       "      <td>0.078819</td>\n",
       "      <td>0.485288</td>\n",
       "      <td>0.477268</td>\n",
       "      <td>0.477268</td>\n",
       "      <td>0.496766</td>\n",
       "      <td>0.474855</td>\n",
       "      <td>0.409693</td>\n",
       "    </tr>\n",
       "    <tr>\n",
       "      <th>min</th>\n",
       "      <td>0.000000</td>\n",
       "      <td>0.000000e+00</td>\n",
       "      <td>0.000000e+00</td>\n",
       "      <td>0.000000</td>\n",
       "      <td>0.000000e+00</td>\n",
       "      <td>0.000000</td>\n",
       "      <td>0.000000</td>\n",
       "      <td>18.000000</td>\n",
       "      <td>0.000000</td>\n",
       "      <td>0.000000</td>\n",
       "      <td>...</td>\n",
       "      <td>0.000000</td>\n",
       "      <td>0.000000</td>\n",
       "      <td>0.000000</td>\n",
       "      <td>0.000000</td>\n",
       "      <td>0.000000</td>\n",
       "      <td>0.000000</td>\n",
       "      <td>0.000000</td>\n",
       "      <td>0.000000</td>\n",
       "      <td>0.000000</td>\n",
       "      <td>0.000000</td>\n",
       "    </tr>\n",
       "    <tr>\n",
       "      <th>25%</th>\n",
       "      <td>0.000000</td>\n",
       "      <td>0.000000e+00</td>\n",
       "      <td>0.000000e+00</td>\n",
       "      <td>0.000000</td>\n",
       "      <td>1.650000e+04</td>\n",
       "      <td>1.000000</td>\n",
       "      <td>0.000000</td>\n",
       "      <td>26.000000</td>\n",
       "      <td>0.000000</td>\n",
       "      <td>0.000000</td>\n",
       "      <td>...</td>\n",
       "      <td>0.000000</td>\n",
       "      <td>0.000000</td>\n",
       "      <td>0.000000</td>\n",
       "      <td>0.000000</td>\n",
       "      <td>0.000000</td>\n",
       "      <td>0.000000</td>\n",
       "      <td>0.000000</td>\n",
       "      <td>0.000000</td>\n",
       "      <td>0.000000</td>\n",
       "      <td>0.000000</td>\n",
       "    </tr>\n",
       "    <tr>\n",
       "      <th>50%</th>\n",
       "      <td>0.000000</td>\n",
       "      <td>0.000000e+00</td>\n",
       "      <td>1.000000e+05</td>\n",
       "      <td>2.000000</td>\n",
       "      <td>2.500000e+04</td>\n",
       "      <td>3.000000</td>\n",
       "      <td>2.000000</td>\n",
       "      <td>29.000000</td>\n",
       "      <td>1.000000</td>\n",
       "      <td>1.000000</td>\n",
       "      <td>...</td>\n",
       "      <td>0.000000</td>\n",
       "      <td>0.000000</td>\n",
       "      <td>0.000000</td>\n",
       "      <td>0.000000</td>\n",
       "      <td>0.000000</td>\n",
       "      <td>0.000000</td>\n",
       "      <td>1.000000</td>\n",
       "      <td>0.000000</td>\n",
       "      <td>0.000000</td>\n",
       "      <td>0.000000</td>\n",
       "    </tr>\n",
       "    <tr>\n",
       "      <th>75%</th>\n",
       "      <td>0.000000</td>\n",
       "      <td>3.500000e+03</td>\n",
       "      <td>3.000000e+05</td>\n",
       "      <td>4.000000</td>\n",
       "      <td>4.000000e+04</td>\n",
       "      <td>5.000000</td>\n",
       "      <td>11.000000</td>\n",
       "      <td>34.000000</td>\n",
       "      <td>1.000000</td>\n",
       "      <td>1.000000</td>\n",
       "      <td>...</td>\n",
       "      <td>0.000000</td>\n",
       "      <td>0.000000</td>\n",
       "      <td>0.000000</td>\n",
       "      <td>0.000000</td>\n",
       "      <td>1.000000</td>\n",
       "      <td>1.000000</td>\n",
       "      <td>1.000000</td>\n",
       "      <td>1.000000</td>\n",
       "      <td>1.000000</td>\n",
       "      <td>0.000000</td>\n",
       "    </tr>\n",
       "    <tr>\n",
       "      <th>max</th>\n",
       "      <td>1.000000</td>\n",
       "      <td>1.000000e+07</td>\n",
       "      <td>1.000000e+07</td>\n",
       "      <td>10.000000</td>\n",
       "      <td>4.445544e+08</td>\n",
       "      <td>7.000000</td>\n",
       "      <td>18.000000</td>\n",
       "      <td>100.000000</td>\n",
       "      <td>1.000000</td>\n",
       "      <td>1.000000</td>\n",
       "      <td>...</td>\n",
       "      <td>1.000000</td>\n",
       "      <td>1.000000</td>\n",
       "      <td>1.000000</td>\n",
       "      <td>1.000000</td>\n",
       "      <td>1.000000</td>\n",
       "      <td>1.000000</td>\n",
       "      <td>1.000000</td>\n",
       "      <td>1.000000</td>\n",
       "      <td>1.000000</td>\n",
       "      <td>1.000000</td>\n",
       "    </tr>\n",
       "  </tbody>\n",
       "</table>\n",
       "<p>8 rows × 50 columns</p>\n",
       "</div>"
      ],
      "text/plain": [
       "          Disbursed  Existing_EMI  Loan_Amount_Applied  Loan_Tenure_Applied  \\\n",
       "count  87020.000000  8.702000e+04         8.702000e+04         87020.000000   \n",
       "mean       0.014629  3.693212e+03         2.301444e+05             2.131292   \n",
       "std        0.120062  3.979411e+04         3.540818e+05             2.013375   \n",
       "min        0.000000  0.000000e+00         0.000000e+00             0.000000   \n",
       "25%        0.000000  0.000000e+00         0.000000e+00             0.000000   \n",
       "50%        0.000000  0.000000e+00         1.000000e+05             2.000000   \n",
       "75%        0.000000  3.500000e+03         3.000000e+05             4.000000   \n",
       "max        1.000000  1.000000e+07         1.000000e+07            10.000000   \n",
       "\n",
       "       Monthly_Income          Var4          Var5           Age  \\\n",
       "count    8.702000e+04  87020.000000  87020.000000  87020.000000   \n",
       "mean     5.884997e+04      2.949805      4.961503     30.904171   \n",
       "std      2.177511e+06      1.697720      5.670385      7.147194   \n",
       "min      0.000000e+00      0.000000      0.000000     18.000000   \n",
       "25%      1.650000e+04      1.000000      0.000000     26.000000   \n",
       "50%      2.500000e+04      3.000000      2.000000     29.000000   \n",
       "75%      4.000000e+04      5.000000     11.000000     34.000000   \n",
       "max      4.445544e+08      7.000000     18.000000    100.000000   \n",
       "\n",
       "       EMI_Loan_Submitted_Missing  Interest_Rate_Missing      ...       \\\n",
       "count                87020.000000           87020.000000      ...        \n",
       "mean                     0.681384               0.681384      ...        \n",
       "std                      0.465943               0.465943      ...        \n",
       "min                      0.000000               0.000000      ...        \n",
       "25%                      0.000000               0.000000      ...        \n",
       "50%                      1.000000               1.000000      ...        \n",
       "75%                      1.000000               1.000000      ...        \n",
       "max                      1.000000               1.000000      ...        \n",
       "\n",
       "             Var2_2        Var2_3        Var2_4        Var2_5        Var2_6  \\\n",
       "count  87020.000000  87020.000000  87020.000000  87020.000000  87020.000000   \n",
       "mean       0.163296      0.007286      0.015111      0.006251      0.379591   \n",
       "std        0.369637      0.085045      0.121997      0.078819      0.485288   \n",
       "min        0.000000      0.000000      0.000000      0.000000      0.000000   \n",
       "25%        0.000000      0.000000      0.000000      0.000000      0.000000   \n",
       "50%        0.000000      0.000000      0.000000      0.000000      0.000000   \n",
       "75%        0.000000      0.000000      0.000000      0.000000      1.000000   \n",
       "max        1.000000      1.000000      1.000000      1.000000      1.000000   \n",
       "\n",
       "       Mobile_Verified_0  Mobile_Verified_1      Source_0      Source_1  \\\n",
       "count       87020.000000       87020.000000  87020.000000  87020.000000   \n",
       "mean            0.350942           0.649058      0.443197      0.343427   \n",
       "std             0.477268           0.477268      0.496766      0.474855   \n",
       "min             0.000000           0.000000      0.000000      0.000000   \n",
       "25%             0.000000           0.000000      0.000000      0.000000   \n",
       "50%             0.000000           1.000000      0.000000      0.000000   \n",
       "75%             1.000000           1.000000      1.000000      1.000000   \n",
       "max             1.000000           1.000000      1.000000      1.000000   \n",
       "\n",
       "           Source_2  \n",
       "count  87020.000000  \n",
       "mean       0.213376  \n",
       "std        0.409693  \n",
       "min        0.000000  \n",
       "25%        0.000000  \n",
       "50%        0.000000  \n",
       "75%        0.000000  \n",
       "max        1.000000  \n",
       "\n",
       "[8 rows x 50 columns]"
      ]
     },
     "execution_count": 11,
     "metadata": {},
     "output_type": "execute_result"
    }
   ],
   "source": [
    "train.describe()"
   ]
  },
  {
   "cell_type": "code",
   "execution_count": 38,
   "metadata": {},
   "outputs": [
    {
     "data": {
      "text/plain": [
       "array([0.0, 0.0, 'ID000002C20', 300000.0, 5.0, 20000, 1, 0, 37, 1, 1, 1,\n",
       "       1, 1, 0.0, 1.0, 1.0, 0.0, 1.0, 0.0, 0.0, 0.0, 0.0, 0.0, 0.0, 0.0,\n",
       "       0.0, 0.0, 0.0, 0.0, 0.0, 0.0, 0.0, 1.0, 0.0, 0.0, 0.0, 0.0, 0.0,\n",
       "       0.0, 0.0, 0.0, 0.0, 0.0, 0.0, 1.0, 1.0, 0.0, 1.0, 0.0, 0.0],\n",
       "      dtype=object)"
      ]
     },
     "execution_count": 38,
     "metadata": {},
     "output_type": "execute_result"
    }
   ],
   "source": [
    "train.values[0]"
   ]
  },
  {
   "cell_type": "code",
   "execution_count": 197,
   "metadata": {},
   "outputs": [],
   "source": [
    "def model_fit(alg, dtrain, predictors, useTrainCV=True, cv_folds=5, early_stopping_rounds=50):\n",
    "    if useTrainCV:\n",
    "        xgb_param=alg.get_xgb_params()\n",
    "        xgtrain=xgb.DMatrix(dtrain[predictors].values, label=dtrain[target].values)\n",
    "        cvresult=xgb.cv(xgb_param, xgtrain, num_boost_round=alg.get_params()['n_estimators'], nfold=cv_folds, metrics='auc', early_stopping_rounds=early_stopping_rounds)\n",
    "        alg.set_params(n_estimators=cvresult.shape[0])\n",
    "    \n",
    "    #Fit the algorithm on the data:\n",
    "    alg.fit(dtrain[predictors], dtrain['Disbursed'], eval_metric='auc')\n",
    "    \n",
    "    #Predict training set:\n",
    "    dtrain_predictors=alg.predict(dtrain[predictors])\n",
    "    dtrain_predprob=alg.predict_proba(dtrain[predictors])[:,1]\n",
    "    \n",
    "    #Print model report:\n",
    "    print (\"\\nModel Report\")\n",
    "    print (\"Accuracy : %.4g\" % metrics.accuracy_score(dtrain['Disbursed'].values, dtrain_predictions))\n",
    "    print (\"AUC Score (Train): %f\" % metrics.roc_auc_score(dtrain['Disbursed'], dtrain_predprob))\n",
    "    \n",
    "    feat_imp=pd.Series(alg.Booster().get_fscore()).sort_values(ascending=False)\n",
    "    feat_imp.plot(kind='bar', title='Feature importances')\n",
    "    plt.ylabel('Feature Importance Score')"
   ]
  },
  {
   "cell_type": "code",
   "execution_count": 168,
   "metadata": {},
   "outputs": [],
   "source": [
    "def modelfit(alg, dtrain, predictors,useTrainCV=True, cv_folds=5, early_stopping_rounds=50):\n",
    "    \n",
    "    if useTrainCV:\n",
    "        xgb_param = alg.get_xgb_params()\n",
    "        xgtrain = xgb.DMatrix(dtrain[predictors].values, label=dtrain[target].values)\n",
    "        cvresult = xgb.cv(xgb_param, xgtrain, num_boost_round=alg.get_params()['n_estimators'], nfold=cv_folds,\n",
    "            metrics='auc', early_stopping_rounds=early_stopping_rounds)\n",
    "        alg.set_params(n_estimators=cvresult.shape[0])\n",
    "    \n",
    "    #Fit the algorithm on the data\n",
    "    alg.fit(dtrain[predictors], dtrain['Disbursed'],eval_metric='auc')\n",
    "        \n",
    "    #Predict training set:\n",
    "    dtrain_predictions = alg.predict(dtrain[predictors])\n",
    "    dtrain_predprob = alg.predict_proba(dtrain[predictors])[:,1]\n",
    "        \n",
    "    #Print model report:\n",
    "    print (\"\\nModel Report\")\n",
    "    print (\"Accuracy : %.4g\" % metrics.accuracy_score(dtrain['Disbursed'].values, dtrain_predictions))\n",
    "    print (\"AUC Score (Train): %f\" % metrics.roc_auc_score(dtrain['Disbursed'], dtrain_predprob))\n",
    "                    \n",
    "    feat_imp = pd.Series(alg.get_booster().get_fscore()).sort_values(ascending=False)\n",
    "    feat_imp.plot(kind='bar', title='Feature Importances')\n",
    "    plt.ylabel('Feature Importance Score')"
   ]
  },
  {
   "cell_type": "markdown",
   "metadata": {},
   "source": [
    "# 1-Fix a learning rate and number of estimator for tuning tree-based parmeters"
   ]
  },
  {
   "cell_type": "code",
   "execution_count": 62,
   "metadata": {},
   "outputs": [],
   "source": [
    "#Choose all predictors except columns target & IDcols\n",
    "predictors=[x for x in train.columns if x not in [target, IDcol]]\n",
    "xgb1=XGBClassifier(learning_rate=0.1,\n",
    "n_estimators=1000,\n",
    "max_depth=5, \n",
    "colsample_bytree=0.8, \n",
    "subsample=0.8,\n",
    "gamma=0,\n",
    "    n_jobs=4,\n",
    "random_state=27)"
   ]
  },
  {
   "cell_type": "code",
   "execution_count": 96,
   "metadata": {},
   "outputs": [
    {
     "name": "stderr",
     "output_type": "stream",
     "text": [
      "C:\\ProgramData\\Anaconda3\\lib\\site-packages\\sklearn\\preprocessing\\label.py:151: DeprecationWarning: The truth value of an empty array is ambiguous. Returning False, but in future this will result in an error. Use `array.size > 0` to check that an array is not empty.\n",
      "  if diff:\n"
     ]
    },
    {
     "name": "stdout",
     "output_type": "stream",
     "text": [
      "\n",
      "Model Report\n",
      "Accuracy : 0.9854\n",
      "AUC Score (Train): 0.895857\n"
     ]
    },
    {
     "ename": "TypeError",
     "evalue": "'str' object is not callable",
     "output_type": "error",
     "traceback": [
      "\u001b[1;31m---------------------------------------------------------------------------\u001b[0m",
      "\u001b[1;31mTypeError\u001b[0m                                 Traceback (most recent call last)",
      "\u001b[1;32m<ipython-input-96-2467879b0369>\u001b[0m in \u001b[0;36m<module>\u001b[1;34m()\u001b[0m\n\u001b[1;32m----> 1\u001b[1;33m \u001b[0mmodelfit\u001b[0m\u001b[1;33m(\u001b[0m\u001b[0mxgb1\u001b[0m\u001b[1;33m,\u001b[0m \u001b[0mtrain\u001b[0m\u001b[1;33m,\u001b[0m \u001b[0mpredictors\u001b[0m\u001b[1;33m)\u001b[0m\u001b[1;33m\u001b[0m\u001b[0m\n\u001b[0m",
      "\u001b[1;32m<ipython-input-95-0bc6edfa63bd>\u001b[0m in \u001b[0;36mmodelfit\u001b[1;34m(alg, dtrain, predictors, useTrainCV, cv_folds, early_stopping_rounds)\u001b[0m\n\u001b[0;32m     20\u001b[0m     \u001b[0mprint\u001b[0m \u001b[1;33m(\u001b[0m\u001b[1;34m\"AUC Score (Train): %f\"\u001b[0m \u001b[1;33m%\u001b[0m \u001b[0mmetrics\u001b[0m\u001b[1;33m.\u001b[0m\u001b[0mroc_auc_score\u001b[0m\u001b[1;33m(\u001b[0m\u001b[0mdtrain\u001b[0m\u001b[1;33m[\u001b[0m\u001b[1;34m'Disbursed'\u001b[0m\u001b[1;33m]\u001b[0m\u001b[1;33m,\u001b[0m \u001b[0mdtrain_predprob\u001b[0m\u001b[1;33m)\u001b[0m\u001b[1;33m)\u001b[0m\u001b[1;33m\u001b[0m\u001b[0m\n\u001b[0;32m     21\u001b[0m \u001b[1;33m\u001b[0m\u001b[0m\n\u001b[1;32m---> 22\u001b[1;33m     \u001b[0mfeat_imp\u001b[0m \u001b[1;33m=\u001b[0m \u001b[0mpd\u001b[0m\u001b[1;33m.\u001b[0m\u001b[0mSeries\u001b[0m\u001b[1;33m(\u001b[0m\u001b[0malg\u001b[0m\u001b[1;33m.\u001b[0m\u001b[0mbooster\u001b[0m\u001b[1;33m(\u001b[0m\u001b[1;33m)\u001b[0m\u001b[1;33m.\u001b[0m\u001b[0mget_fscore\u001b[0m\u001b[1;33m(\u001b[0m\u001b[1;33m)\u001b[0m\u001b[1;33m)\u001b[0m\u001b[1;33m.\u001b[0m\u001b[0msort_values\u001b[0m\u001b[1;33m(\u001b[0m\u001b[0mascending\u001b[0m\u001b[1;33m=\u001b[0m\u001b[1;32mFalse\u001b[0m\u001b[1;33m)\u001b[0m\u001b[1;33m\u001b[0m\u001b[0m\n\u001b[0m\u001b[0;32m     23\u001b[0m     \u001b[0mfeat_imp\u001b[0m\u001b[1;33m.\u001b[0m\u001b[0mplot\u001b[0m\u001b[1;33m(\u001b[0m\u001b[0mkind\u001b[0m\u001b[1;33m=\u001b[0m\u001b[1;34m'bar'\u001b[0m\u001b[1;33m,\u001b[0m \u001b[0mtitle\u001b[0m\u001b[1;33m=\u001b[0m\u001b[1;34m'Feature Importances'\u001b[0m\u001b[1;33m)\u001b[0m\u001b[1;33m\u001b[0m\u001b[0m\n\u001b[0;32m     24\u001b[0m     \u001b[0mplt\u001b[0m\u001b[1;33m.\u001b[0m\u001b[0mylabel\u001b[0m\u001b[1;33m(\u001b[0m\u001b[1;34m'Feature Importance Score'\u001b[0m\u001b[1;33m)\u001b[0m\u001b[1;33m\u001b[0m\u001b[0m\n",
      "\u001b[1;31mTypeError\u001b[0m: 'str' object is not callable"
     ]
    }
   ],
   "source": [
    "modelfit(xgb1, train, predictors)"
   ]
  },
  {
   "cell_type": "code",
   "execution_count": 200,
   "metadata": {},
   "outputs": [
    {
     "data": {
      "text/plain": [
       "0.5"
      ]
     },
     "execution_count": 200,
     "metadata": {},
     "output_type": "execute_result"
    }
   ],
   "source": [
    "xgb1.get_params()['base_score']"
   ]
  },
  {
   "cell_type": "code",
   "execution_count": 139,
   "metadata": {},
   "outputs": [
    {
     "data": {
      "text/plain": [
       "Text(0,0.5,'Feature Importance Score')"
      ]
     },
     "execution_count": 139,
     "metadata": {},
     "output_type": "execute_result"
    },
    {
     "data": {
      "image/png": "[encoded data removed]",
      "text/plain": [
       "<Figure size 864x288 with 1 Axes>"
      ]
     },
     "metadata": {
      "needs_background": "light"
     },
     "output_type": "display_data"
    }
   ],
   "source": [
    "feat_imp = pd.Series(xgb1.feature_importances_).sort_values(ascending=False)\n",
    "feat_imp.plot(kind='bar', title='Feature Importances')\n",
    "plt.ylabel('Feature Importance Score')"
   ]
  },
  {
   "cell_type": "code",
   "execution_count": 140,
   "metadata": {},
   "outputs": [],
   "source": [
    "from xgboost import plot_importance"
   ]
  },
  {
   "cell_type": "code",
   "execution_count": 166,
   "metadata": {},
   "outputs": [
    {
     "data": {
      "text/plain": [
       "<bound method XGBModel.get_num_boosting_rounds of XGBClassifier(base_score=0.5, booster='gbtree', colsample_bylevel=1,\n",
       "       colsample_bynode=1, colsample_bytree=0.8, gamma=0,\n",
       "       learning_rate=0.1, max_delta_step=0, max_depth=5,\n",
       "       min_child_weight=1, missing=None, n_estimators=127, n_jobs=4,\n",
       "       nthread=None, objective='binary:logistic', random_state=27,\n",
       "       reg_alpha=0, reg_lambda=1, scale_pos_weight=1, seed=None,\n",
       "       silent=None, subsample=0.8, verbosity=1)>"
      ]
     },
     "execution_count": 166,
     "metadata": {},
     "output_type": "execute_result"
    }
   ],
   "source": [
    "imp_vals = xgb1.get_booster().get_fscore()\n",
    "xgb1.get_num_boosting_rounds"
   ]
  },
  {
   "cell_type": "code",
   "execution_count": 146,
   "metadata": {},
   "outputs": [
    {
     "data": {
      "text/plain": [
       "Text(0,0.5,'Feature Importance Score')"
      ]
     },
     "execution_count": 146,
     "metadata": {},
     "output_type": "execute_result"
    },
    {
     "data": {
      "image/png": "[encoded data removed]",
      "text/plain": [
       "<Figure size 864x288 with 1 Axes>"
      ]
     },
     "metadata": {
      "needs_background": "light"
     },
     "output_type": "display_data"
    }
   ],
   "source": [
    "feature_important = xgb1.get_booster().get_fscore()\n",
    "pd_series=pd.Series(feature_important)\n",
    "feat_imp=pd_series.sort_values(ascending=False)\n",
    "feat_imp.plot(kind='bar', title='Feature Importances')\n",
    "plt.ylabel('Feature Importance Score')"
   ]
  },
  {
   "cell_type": "markdown",
   "metadata": {},
   "source": [
    "# Step 2: Tune max_depth and min_child_weight"
   ]
  },
  {
   "cell_type": "code",
   "execution_count": 172,
   "metadata": {},
   "outputs": [
    {
     "data": {
      "text/plain": [
       "<bound method XGBModel.get_params of XGBClassifier(base_score=0.5, booster='gbtree', colsample_bylevel=1,\n",
       "       colsample_bynode=1, colsample_bytree=0.8, gamma=0,\n",
       "       learning_rate=0.1, max_delta_step=0, max_depth=5,\n",
       "       min_child_weight=1, missing=None, n_estimators=127, n_jobs=4,\n",
       "       nthread=None, objective='binary:logistic', random_state=27,\n",
       "       reg_alpha=0, reg_lambda=1, scale_pos_weight=1, seed=None,\n",
       "       silent=None, subsample=0.8, verbosity=1)>"
      ]
     },
     "execution_count": 172,
     "metadata": {},
     "output_type": "execute_result"
    }
   ],
   "source": [
    "#Get parameters of the xgb1 to pass in GridSearchCV\n",
    "xgb1.get_params"
   ]
  },
  {
   "cell_type": "code",
   "execution_count": 176,
   "metadata": {},
   "outputs": [
    {
     "data": {
      "text/plain": [
       "GridSearchCV(cv=5, error_score='raise',\n",
       "       estimator=XGBClassifier(base_score=0.5, booster='gbtree', colsample_bylevel=1,\n",
       "       colsample_bynode=1, colsample_bytree=0.8, gamma=0,\n",
       "       learning_rate=0.1, max_delta_step=0, max_depth=3,\n",
       "       min_child_weight=1, missing=None, n_estimators=127, n_jobs=4,\n",
       "       nthread=None, objective='binary:logistic', random_state=27,\n",
       "       reg_alpha=0, reg_lambda=1, scale_pos_weight=1, seed=None,\n",
       "       silent=None, subsample=0.8, verbosity=1),\n",
       "       fit_params=None, iid=False, n_jobs=4,\n",
       "       param_grid={'max_depth': range(3, 10, 2), 'min_child_weight': range(1, 6, 2)},\n",
       "       pre_dispatch='2*n_jobs', refit=True, return_train_score='warn',\n",
       "       scoring='roc_auc', verbose=0)"
      ]
     },
     "execution_count": 176,
     "metadata": {},
     "output_type": "execute_result"
    }
   ],
   "source": [
    "param_test={'max_depth':range(3,10,2), 'min_child_weight':range(1,6,2)}\n",
    "gsearch1=GridSearchCV(estimator=XGBClassifier(base_score=0.5, booster='gbtree', colsample_bylevel=1,\n",
    "       colsample_bynode=1, colsample_bytree=0.8, gamma=0,\n",
    "       learning_rate=0.1, max_delta_step=0,\n",
    "       missing=None, n_estimators=127, n_jobs=4,\n",
    "       nthread=None, objective='binary:logistic', random_state=27,\n",
    "       reg_alpha=0, reg_lambda=1, scale_pos_weight=1, seed=None,\n",
    "       silent=None, subsample=0.8, verbosity=1),param_grid=param_test,scoring='roc_auc',n_jobs=4,iid=False, cv=5)\n",
    "\n",
    "gsearch1.fit(train[predictors],train[target])"
   ]
  },
  {
   "cell_type": "code",
   "execution_count": 175,
   "metadata": {},
   "outputs": [
    {
     "name": "stderr",
     "output_type": "stream",
     "text": [
      "C:\\ProgramData\\Anaconda3\\lib\\site-packages\\sklearn\\model_selection\\_search.py:762: DeprecationWarning: The grid_scores_ attribute was deprecated in version 0.18 in favor of the more elaborate cv_results_ attribute. The grid_scores_ attribute will not be available from 0.20\n",
      "  DeprecationWarning)\n"
     ]
    },
    {
     "data": {
      "text/plain": [
       "([mean: 0.83584, std: 0.01190, params: {'max_depth': 3, 'min_child_weight': 1},\n",
       "  mean: 0.83664, std: 0.01117, params: {'max_depth': 3, 'min_child_weight': 3},\n",
       "  mean: 0.83645, std: 0.01022, params: {'max_depth': 3, 'min_child_weight': 5},\n",
       "  mean: 0.84102, std: 0.00802, params: {'max_depth': 5, 'min_child_weight': 1},\n",
       "  mean: 0.84065, std: 0.00954, params: {'max_depth': 5, 'min_child_weight': 3},\n",
       "  mean: 0.83997, std: 0.00704, params: {'max_depth': 5, 'min_child_weight': 5},\n",
       "  mean: 0.83589, std: 0.00581, params: {'max_depth': 7, 'min_child_weight': 1},\n",
       "  mean: 0.83920, std: 0.00804, params: {'max_depth': 7, 'min_child_weight': 3},\n",
       "  mean: 0.83620, std: 0.00848, params: {'max_depth': 7, 'min_child_weight': 5},\n",
       "  mean: 0.82961, std: 0.00463, params: {'max_depth': 9, 'min_child_weight': 1},\n",
       "  mean: 0.83069, std: 0.00887, params: {'max_depth': 9, 'min_child_weight': 3},\n",
       "  mean: 0.83237, std: 0.00570, params: {'max_depth': 9, 'min_child_weight': 5}],\n",
       " {'max_depth': 5, 'min_child_weight': 1},\n",
       " 0.8410182486990463)"
      ]
     },
     "execution_count": 175,
     "metadata": {},
     "output_type": "execute_result"
    }
   ],
   "source": [
    "gsearch1.grid_scores_, gsearch1.best_params_, gsearch1.best_score_"
   ]
  },
  {
   "cell_type": "code",
   "execution_count": 177,
   "metadata": {},
   "outputs": [
    {
     "name": "stderr",
     "output_type": "stream",
     "text": [
      "C:\\ProgramData\\Anaconda3\\lib\\site-packages\\sklearn\\model_selection\\_search.py:762: DeprecationWarning: The grid_scores_ attribute was deprecated in version 0.18 in favor of the more elaborate cv_results_ attribute. The grid_scores_ attribute will not be available from 0.20\n",
      "  DeprecationWarning)\n"
     ]
    },
    {
     "data": {
      "text/plain": [
       "([mean: 0.83584, std: 0.01190, params: {'max_depth': 3, 'min_child_weight': 1},\n",
       "  mean: 0.83664, std: 0.01117, params: {'max_depth': 3, 'min_child_weight': 3},\n",
       "  mean: 0.83645, std: 0.01022, params: {'max_depth': 3, 'min_child_weight': 5},\n",
       "  mean: 0.84102, std: 0.00802, params: {'max_depth': 5, 'min_child_weight': 1},\n",
       "  mean: 0.84065, std: 0.00954, params: {'max_depth': 5, 'min_child_weight': 3},\n",
       "  mean: 0.83997, std: 0.00704, params: {'max_depth': 5, 'min_child_weight': 5},\n",
       "  mean: 0.83589, std: 0.00581, params: {'max_depth': 7, 'min_child_weight': 1},\n",
       "  mean: 0.83920, std: 0.00804, params: {'max_depth': 7, 'min_child_weight': 3},\n",
       "  mean: 0.83620, std: 0.00848, params: {'max_depth': 7, 'min_child_weight': 5},\n",
       "  mean: 0.82961, std: 0.00463, params: {'max_depth': 9, 'min_child_weight': 1},\n",
       "  mean: 0.83069, std: 0.00887, params: {'max_depth': 9, 'min_child_weight': 3},\n",
       "  mean: 0.83237, std: 0.00570, params: {'max_depth': 9, 'min_child_weight': 5}],\n",
       " {'max_depth': 5, 'min_child_weight': 1},\n",
       " 0.8410182486990463)"
      ]
     },
     "execution_count": 177,
     "metadata": {},
     "output_type": "execute_result"
    }
   ],
   "source": [
    "gsearch1.grid_scores_, gsearch1.best_params_, gsearch1.best_score_"
   ]
  },
  {
   "cell_type": "code",
   "execution_count": 178,
   "metadata": {},
   "outputs": [
    {
     "data": {
      "text/plain": [
       "XGBClassifier(base_score=0.5, booster='gbtree', colsample_bylevel=1,\n",
       "       colsample_bynode=1, colsample_bytree=0.8, gamma=0,\n",
       "       learning_rate=0.1, max_delta_step=0, max_depth=3,\n",
       "       min_child_weight=1, missing=None, n_estimators=127, n_jobs=4,\n",
       "       nthread=None, objective='binary:logistic', random_state=27,\n",
       "       reg_alpha=0, reg_lambda=1, scale_pos_weight=1, seed=None,\n",
       "       silent=None, subsample=0.8, verbosity=1)"
      ]
     },
     "execution_count": 178,
     "metadata": {},
     "output_type": "execute_result"
    }
   ],
   "source": [
    "gsearch1.estimator"
   ]
  },
  {
   "cell_type": "code",
   "execution_count": 179,
   "metadata": {},
   "outputs": [
    {
     "name": "stderr",
     "output_type": "stream",
     "text": [
      "C:\\ProgramData\\Anaconda3\\lib\\site-packages\\sklearn\\model_selection\\_search.py:762: DeprecationWarning: The grid_scores_ attribute was deprecated in version 0.18 in favor of the more elaborate cv_results_ attribute. The grid_scores_ attribute will not be available from 0.20\n",
      "  DeprecationWarning)\n"
     ]
    },
    {
     "data": {
      "text/plain": [
       "([mean: 0.84102, std: 0.00802, params: {'gamma': 0.0},\n",
       "  mean: 0.84222, std: 0.00671, params: {'gamma': 0.1},\n",
       "  mean: 0.84151, std: 0.00741, params: {'gamma': 0.2},\n",
       "  mean: 0.84077, std: 0.00906, params: {'gamma': 0.3},\n",
       "  mean: 0.84077, std: 0.00832, params: {'gamma': 0.4}],\n",
       " {'gamma': 0.1},\n",
       " 0.8422152211629322)"
      ]
     },
     "execution_count": 179,
     "metadata": {},
     "output_type": "execute_result"
    }
   ],
   "source": [
    "param_test3 = {\n",
    " 'gamma':[i/10.0 for i in range(0,5)]\n",
    "}\n",
    "gsearch3 = GridSearchCV(estimator = XGBClassifier( learning_rate =0.1, n_estimators=127, max_depth=5,\n",
    " min_child_weight=1, subsample=0.8, colsample_bytree=0.8,\n",
    " objective= 'binary:logistic', nthread=4, scale_pos_weight=1,seed=27), \n",
    " param_grid = param_test3, scoring='roc_auc',n_jobs=4,iid=False, cv=5)\n",
    "gsearch3.fit(train[predictors],train[target])\n",
    "gsearch3.grid_scores_, gsearch3.best_params_, gsearch3.best_score_"
   ]
  },
  {
   "cell_type": "code",
   "execution_count": 190,
   "metadata": {},
   "outputs": [
    {
     "name": "stderr",
     "output_type": "stream",
     "text": [
      "C:\\ProgramData\\Anaconda3\\lib\\site-packages\\sklearn\\model_selection\\_search.py:762: DeprecationWarning: The grid_scores_ attribute was deprecated in version 0.18 in favor of the more elaborate cv_results_ attribute. The grid_scores_ attribute will not be available from 0.20\n",
      "  DeprecationWarning)\n"
     ]
    },
    {
     "data": {
      "text/plain": [
       "([mean: 0.84092, std: 0.00771, params: {'gamma': 0.025},\n",
       "  mean: 0.84121, std: 0.00723, params: {'gamma': 0.05},\n",
       "  mean: 0.84222, std: 0.00671, params: {'gamma': 0.1}],\n",
       " {'gamma': 0.1},\n",
       " 0.8422152211629322)"
      ]
     },
     "execution_count": 190,
     "metadata": {},
     "output_type": "execute_result"
    }
   ],
   "source": [
    "param_test4 = {\n",
    " 'gamma':[0.025,0.05,0.1]\n",
    "}\n",
    "gsearch4 = GridSearchCV(estimator = XGBClassifier( learning_rate =0.1, n_estimators=127, max_depth=5,\n",
    " min_child_weight=1, subsample=0.8, colsample_bytree=0.8,\n",
    " objective= 'binary:logistic', nthread=4, scale_pos_weight=1,seed=27), \n",
    " param_grid = param_test4, scoring='roc_auc',n_jobs=4,iid=False, cv=5)\n",
    "gsearch4.fit(train[predictors],train[target])\n",
    "gsearch4.grid_scores_, gsearch3.best_params_, gsearch3.best_score_"
   ]
  },
  {
   "cell_type": "code",
   "execution_count": 191,
   "metadata": {},
   "outputs": [
    {
     "name": "stderr",
     "output_type": "stream",
     "text": [
      "C:\\ProgramData\\Anaconda3\\lib\\site-packages\\sklearn\\model_selection\\_search.py:762: DeprecationWarning: The grid_scores_ attribute was deprecated in version 0.18 in favor of the more elaborate cv_results_ attribute. The grid_scores_ attribute will not be available from 0.20\n",
      "  DeprecationWarning)\n"
     ]
    },
    {
     "data": {
      "text/plain": [
       "([mean: 0.84222, std: 0.00671, params: {'gamma': 0.1},\n",
       "  mean: 0.84201, std: 0.00734, params: {'gamma': 0.125},\n",
       "  mean: 0.84178, std: 0.00671, params: {'gamma': 0.15}],\n",
       " {'gamma': 0.1},\n",
       " 0.8422152211629322)"
      ]
     },
     "execution_count": 191,
     "metadata": {},
     "output_type": "execute_result"
    }
   ],
   "source": [
    "param_test5 = {\n",
    " 'gamma':[0.1,0.125,0.15]\n",
    "}\n",
    "gsearch5 = GridSearchCV(estimator = XGBClassifier( learning_rate =0.1, n_estimators=127, max_depth=5,\n",
    " min_child_weight=1, subsample=0.8, colsample_bytree=0.8,\n",
    " objective= 'binary:logistic', nthread=4, scale_pos_weight=1,seed=27), \n",
    " param_grid = param_test5, scoring='roc_auc',n_jobs=4,iid=False, cv=5)\n",
    "gsearch4.fit(train[predictors],train[target])\n",
    "gsearch4.grid_scores_, gsearch3.best_params_, gsearch3.best_score_"
   ]
  },
  {
   "cell_type": "code",
   "execution_count": 199,
   "metadata": {},
   "outputs": [
    {
     "name": "stderr",
     "output_type": "stream",
     "text": [
      "C:\\ProgramData\\Anaconda3\\lib\\site-packages\\sklearn\\preprocessing\\label.py:151: DeprecationWarning: The truth value of an empty array is ambiguous. Returning False, but in future this will result in an error. Use `array.size > 0` to check that an array is not empty.\n",
      "  if diff:\n"
     ]
    },
    {
     "name": "stdout",
     "output_type": "stream",
     "text": [
      "\n",
      "Model Report\n",
      "Accuracy : 0.9854\n",
      "AUC Score (Train): 0.896139\n"
     ]
    },
    {
     "data": {
      "image/png": "[encoded data removed]",
      "text/plain": [
       "<Figure size 864x288 with 1 Axes>"
      ]
     },
     "metadata": {
      "needs_background": "light"
     },
     "output_type": "display_data"
    }
   ],
   "source": [
    "predictors=[x for x in train.columns if x not in [target, IDcol]]\n",
    "xgb5=gsearch5.best_estimator_\n",
    "modelfit(xgb2, train, predictors)"
   ]
  },
  {
   "cell_type": "markdown",
   "metadata": {},
   "source": [
    "# 3 Tuning subsample and colsample_bytree"
   ]
  },
  {
   "cell_type": "code",
   "execution_count": 204,
   "metadata": {},
   "outputs": [
    {
     "name": "stderr",
     "output_type": "stream",
     "text": [
      "C:\\ProgramData\\Anaconda3\\lib\\site-packages\\sklearn\\model_selection\\_search.py:762: DeprecationWarning: The grid_scores_ attribute was deprecated in version 0.18 in favor of the more elaborate cv_results_ attribute. The grid_scores_ attribute will not be available from 0.20\n",
      "  DeprecationWarning)\n"
     ]
    },
    {
     "data": {
      "text/plain": [
       "([mean: 0.83985, std: 0.00709, params: {'colsample_bytree': 0.6, 'subsample': 0.6},\n",
       "  mean: 0.84028, std: 0.00526, params: {'colsample_bytree': 0.6, 'subsample': 0.7},\n",
       "  mean: 0.84047, std: 0.00686, params: {'colsample_bytree': 0.6, 'subsample': 0.8},\n",
       "  mean: 0.83831, std: 0.00854, params: {'colsample_bytree': 0.6, 'subsample': 0.9},\n",
       "  mean: 0.83688, std: 0.00747, params: {'colsample_bytree': 0.7, 'subsample': 0.6},\n",
       "  mean: 0.83840, std: 0.00786, params: {'colsample_bytree': 0.7, 'subsample': 0.7},\n",
       "  mean: 0.84036, std: 0.00887, params: {'colsample_bytree': 0.7, 'subsample': 0.8},\n",
       "  mean: 0.84023, std: 0.00852, params: {'colsample_bytree': 0.7, 'subsample': 0.9},\n",
       "  mean: 0.83956, std: 0.00897, params: {'colsample_bytree': 0.8, 'subsample': 0.6},\n",
       "  mean: 0.83912, std: 0.00658, params: {'colsample_bytree': 0.8, 'subsample': 0.7},\n",
       "  mean: 0.84222, std: 0.00671, params: {'colsample_bytree': 0.8, 'subsample': 0.8},\n",
       "  mean: 0.84163, std: 0.00843, params: {'colsample_bytree': 0.8, 'subsample': 0.9},\n",
       "  mean: 0.83842, std: 0.00799, params: {'colsample_bytree': 0.9, 'subsample': 0.6},\n",
       "  mean: 0.83932, std: 0.00714, params: {'colsample_bytree': 0.9, 'subsample': 0.7},\n",
       "  mean: 0.84056, std: 0.00762, params: {'colsample_bytree': 0.9, 'subsample': 0.8},\n",
       "  mean: 0.84040, std: 0.00715, params: {'colsample_bytree': 0.9, 'subsample': 0.9}],\n",
       " {'gamma': 0.1},\n",
       " 0.8422152211629322)"
      ]
     },
     "execution_count": 204,
     "metadata": {},
     "output_type": "execute_result"
    }
   ],
   "source": [
    "# a typical subasample:  btweene 0.6 and 0.9\n",
    "# a typical value of colsample_bytree: 0.6 and 0.9\n",
    "param_test6={'subsample': [i/10.0 for i in range(6,10)] ,'colsample_bytree':[i/10.0 for i in range(6,10)]}\n",
    "\n",
    "gsearch6 = GridSearchCV(estimator = XGBClassifier( learning_rate =0.1, n_estimators=127, max_depth=5,\n",
    "min_child_weight=1, objective= 'binary:logistic', nthread=4, scale_pos_weight=1,seed=27,gamma=0.1), \n",
    "param_grid = param_test6, scoring='roc_auc',n_jobs=4,iid=False, cv=5)\n",
    "\n",
    "gsearch6.fit(train[predictors], train[target])\n",
    "gsearch6.grid_scores_, gsearch6.best_params_, gsearch6.best_score_"
   ]
  },
  {
   "cell_type": "code",
   "execution_count": 205,
   "metadata": {},
   "outputs": [
    {
     "name": "stderr",
     "output_type": "stream",
     "text": [
      "C:\\ProgramData\\Anaconda3\\lib\\site-packages\\sklearn\\model_selection\\_search.py:762: DeprecationWarning: The grid_scores_ attribute was deprecated in version 0.18 in favor of the more elaborate cv_results_ attribute. The grid_scores_ attribute will not be available from 0.20\n",
      "  DeprecationWarning)\n"
     ]
    },
    {
     "data": {
      "text/plain": [
       "([mean: 0.83985, std: 0.00709, params: {'colsample_bytree': 0.6, 'subsample': 0.6},\n",
       "  mean: 0.84028, std: 0.00526, params: {'colsample_bytree': 0.6, 'subsample': 0.7},\n",
       "  mean: 0.84047, std: 0.00686, params: {'colsample_bytree': 0.6, 'subsample': 0.8},\n",
       "  mean: 0.83831, std: 0.00854, params: {'colsample_bytree': 0.6, 'subsample': 0.9},\n",
       "  mean: 0.83688, std: 0.00747, params: {'colsample_bytree': 0.7, 'subsample': 0.6},\n",
       "  mean: 0.83840, std: 0.00786, params: {'colsample_bytree': 0.7, 'subsample': 0.7},\n",
       "  mean: 0.84036, std: 0.00887, params: {'colsample_bytree': 0.7, 'subsample': 0.8},\n",
       "  mean: 0.84023, std: 0.00852, params: {'colsample_bytree': 0.7, 'subsample': 0.9},\n",
       "  mean: 0.83956, std: 0.00897, params: {'colsample_bytree': 0.8, 'subsample': 0.6},\n",
       "  mean: 0.83912, std: 0.00658, params: {'colsample_bytree': 0.8, 'subsample': 0.7},\n",
       "  mean: 0.84222, std: 0.00671, params: {'colsample_bytree': 0.8, 'subsample': 0.8},\n",
       "  mean: 0.84163, std: 0.00843, params: {'colsample_bytree': 0.8, 'subsample': 0.9},\n",
       "  mean: 0.83842, std: 0.00799, params: {'colsample_bytree': 0.9, 'subsample': 0.6},\n",
       "  mean: 0.83932, std: 0.00714, params: {'colsample_bytree': 0.9, 'subsample': 0.7},\n",
       "  mean: 0.84056, std: 0.00762, params: {'colsample_bytree': 0.9, 'subsample': 0.8},\n",
       "  mean: 0.84040, std: 0.00715, params: {'colsample_bytree': 0.9, 'subsample': 0.9}],\n",
       " {'colsample_bytree': 0.8, 'subsample': 0.8},\n",
       " 0.8422152211629322)"
      ]
     },
     "execution_count": 205,
     "metadata": {},
     "output_type": "execute_result"
    }
   ],
   "source": [
    "gsearch6.grid_scores_, gsearch6.best_params_, gsearch6.best_score_"
   ]
  },
  {
   "cell_type": "code",
   "execution_count": 206,
   "metadata": {},
   "outputs": [
    {
     "name": "stderr",
     "output_type": "stream",
     "text": [
      "C:\\ProgramData\\Anaconda3\\lib\\site-packages\\sklearn\\model_selection\\_search.py:762: DeprecationWarning: The grid_scores_ attribute was deprecated in version 0.18 in favor of the more elaborate cv_results_ attribute. The grid_scores_ attribute will not be available from 0.20\n",
      "  DeprecationWarning)\n"
     ]
    },
    {
     "data": {
      "text/plain": [
       "([mean: 0.84120, std: 0.00695, params: {'colsample_bytree': 0.75, 'subsample': 0.75},\n",
       "  mean: 0.83918, std: 0.00869, params: {'colsample_bytree': 0.75, 'subsample': 0.8},\n",
       "  mean: 0.83942, std: 0.00852, params: {'colsample_bytree': 0.75, 'subsample': 0.85},\n",
       "  mean: 0.84116, std: 0.00705, params: {'colsample_bytree': 0.8, 'subsample': 0.75},\n",
       "  mean: 0.84222, std: 0.00671, params: {'colsample_bytree': 0.8, 'subsample': 0.8},\n",
       "  mean: 0.83976, std: 0.00835, params: {'colsample_bytree': 0.8, 'subsample': 0.85},\n",
       "  mean: 0.84118, std: 0.00657, params: {'colsample_bytree': 0.85, 'subsample': 0.75},\n",
       "  mean: 0.84103, std: 0.00798, params: {'colsample_bytree': 0.85, 'subsample': 0.8},\n",
       "  mean: 0.83943, std: 0.00807, params: {'colsample_bytree': 0.85, 'subsample': 0.85}],\n",
       " {'colsample_bytree': 0.8, 'subsample': 0.8},\n",
       " 0.8422152211629322)"
      ]
     },
     "execution_count": 206,
     "metadata": {},
     "output_type": "execute_result"
    }
   ],
   "source": [
    "param_test7={'subsample': [0.75,0.8,0.85] ,'colsample_bytree':[0.75,0.8,0.85]}\n",
    "\n",
    "gsearch7 = GridSearchCV(estimator = XGBClassifier( learning_rate =0.1, n_estimators=127, max_depth=5,\n",
    "min_child_weight=1, objective= 'binary:logistic', nthread=4, scale_pos_weight=1,seed=27,gamma=0.1), \n",
    "param_grid = param_test7, scoring='roc_auc',n_jobs=4,iid=False, cv=5)\n",
    "\n",
    "gsearch7.fit(train[predictors], train[target])\n",
    "gsearch7.grid_scores_, gsearch6.best_params_, gsearch6.best_score_"
   ]
  },
  {
   "cell_type": "code",
   "execution_count": 208,
   "metadata": {},
   "outputs": [
    {
     "name": "stderr",
     "output_type": "stream",
     "text": [
      "C:\\ProgramData\\Anaconda3\\lib\\site-packages\\sklearn\\preprocessing\\label.py:151: DeprecationWarning: The truth value of an empty array is ambiguous. Returning False, but in future this will result in an error. Use `array.size > 0` to check that an array is not empty.\n",
      "  if diff:\n"
     ]
    },
    {
     "name": "stdout",
     "output_type": "stream",
     "text": [
      "\n",
      "Model Report\n",
      "Accuracy : 0.9854\n",
      "AUC Score (Train): 0.896139\n"
     ]
    },
    {
     "data": {
      "image/png": "[encoded data removed]",
      "text/plain": [
       "<Figure size 864x288 with 1 Axes>"
      ]
     },
     "metadata": {
      "needs_background": "light"
     },
     "output_type": "display_data"
    }
   ],
   "source": [
    "predictors=[x for x in train.columns if x not in [target, IDcol]]\n",
    "xgb6=gsearch7.best_estimator_\n",
    "modelfit(xgb6, train, predictors)"
   ]
  },
  {
   "cell_type": "code",
   "execution_count": null,
   "metadata": {},
   "outputs": [],
   "source": []
  }
 ],
 "metadata": {
  "kernelspec": {
   "display_name": "Python 3",
   "language": "python",
   "name": "python3"
  },
  "language_info": {
   "codemirror_mode": {
    "name": "ipython",
    "version": 3
   },
   "file_extension": ".py",
   "mimetype": "text/x-python",
   "name": "python",
   "nbconvert_exporter": "python",
   "pygments_lexer": "ipython3",
   "version": "3.7.0"
  }
 },
 "nbformat": 4,
 "nbformat_minor": 2
}
